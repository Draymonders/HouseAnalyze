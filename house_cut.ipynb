{
 "cells": [
  {
   "cell_type": "code",
   "execution_count": 1,
   "metadata": {},
   "outputs": [
    {
     "name": "stdout",
     "output_type": "stream",
     "text": [
      "原始数量 11904\n"
     ]
    },
    {
     "data": {
      "text/html": [
       "<div>\n",
       "<style scoped>\n",
       "    .dataframe tbody tr th:only-of-type {\n",
       "        vertical-align: middle;\n",
       "    }\n",
       "\n",
       "    .dataframe tbody tr th {\n",
       "        vertical-align: top;\n",
       "    }\n",
       "\n",
       "    .dataframe thead th {\n",
       "        text-align: right;\n",
       "    }\n",
       "</style>\n",
       "<table border=\"1\" class=\"dataframe\">\n",
       "  <thead>\n",
       "    <tr style=\"text-align: right;\">\n",
       "      <th></th>\n",
       "      <th>Unnamed: 0</th>\n",
       "      <th>house_id</th>\n",
       "      <th>title</th>\n",
       "      <th>district</th>\n",
       "      <th>community</th>\n",
       "      <th>position</th>\n",
       "      <th>tax</th>\n",
       "      <th>total_price</th>\n",
       "      <th>unit_price</th>\n",
       "      <th>link</th>\n",
       "      <th>hourse_type</th>\n",
       "      <th>hourse_size</th>\n",
       "      <th>direction</th>\n",
       "      <th>fitment</th>\n",
       "      <th>level</th>\n",
       "      <th>build_type</th>\n",
       "    </tr>\n",
       "  </thead>\n",
       "  <tbody>\n",
       "    <tr>\n",
       "      <th>0</th>\n",
       "      <td>0</td>\n",
       "      <td>101124280562</td>\n",
       "      <td>人和育华-天鸿天鸿旁业主诚心出售</td>\n",
       "      <td>丛台区</td>\n",
       "      <td>阳光小区</td>\n",
       "      <td>苏曹商圈</td>\n",
       "      <td>-</td>\n",
       "      <td>110.0</td>\n",
       "      <td>9010.0</td>\n",
       "      <td>https://hd.lianjia.com/ershoufang/101124280562...</td>\n",
       "      <td>3室2厅</td>\n",
       "      <td>122.1</td>\n",
       "      <td>南 北</td>\n",
       "      <td>其他</td>\n",
       "      <td>6层</td>\n",
       "      <td>板楼</td>\n",
       "    </tr>\n",
       "  </tbody>\n",
       "</table>\n",
       "</div>"
      ],
      "text/plain": [
       "   Unnamed: 0      house_id             title district community position tax  \\\n",
       "0           0  101124280562  人和育华-天鸿天鸿旁业主诚心出售      丛台区      阳光小区     苏曹商圈   -   \n",
       "\n",
       "   total_price  unit_price                                               link  \\\n",
       "0        110.0      9010.0  https://hd.lianjia.com/ershoufang/101124280562...   \n",
       "\n",
       "  hourse_type  hourse_size direction fitment level build_type  \n",
       "0        3室2厅        122.1       南 北      其他    6层         板楼  "
      ]
     },
     "execution_count": 1,
     "metadata": {},
     "output_type": "execute_result"
    }
   ],
   "source": [
    "# House Cut 房源裁剪\n",
    "import pandas as pd\n",
    "\n",
    "\n",
    "origin_path = \"./data/hd/dt_20250508.csv\"\n",
    "df = pd.read_csv(origin_path)\n",
    "print(\"原始数量\", len(df))\n",
    "df.head(1)"
   ]
  },
  {
   "cell_type": "code",
   "execution_count": 2,
   "metadata": {},
   "outputs": [
    {
     "data": {
      "text/plain": [
       "level\n",
       "高楼层(共6层)     1319\n",
       "高楼层(共18层)     459\n",
       "高楼层(共33层)     459\n",
       "高楼层(共32层)     255\n",
       "高楼层(共34层)     226\n",
       "高楼层(共30层)     182\n",
       "高楼层(共28层)     179\n",
       "高楼层(共7层)      174\n",
       "高楼层(共26层)     168\n",
       "高楼层(共31层)     164\n",
       "Name: count, dtype: int64"
      ]
     },
     "execution_count": 2,
     "metadata": {},
     "output_type": "execute_result"
    }
   ],
   "source": [
    "def is_high_level(row):\n",
    "    # 是否层高较高\n",
    "    if type(row) != dict:\n",
    "        row = row.to_dict()\n",
    "    if \"高\" in row[\"level\"]:\n",
    "        return 1\n",
    "    return 0\n",
    "\n",
    "df[\"is_high_level\"] = df.apply(lambda row: is_high_level(row), axis=1)\n",
    "df[df.is_high_level==1].level.value_counts()[:10]"
   ]
  },
  {
   "cell_type": "code",
   "execution_count": 3,
   "metadata": {},
   "outputs": [
    {
     "data": {
      "text/plain": [
       "unit_price\n",
       "12500.0    22\n",
       "15000.0    10\n",
       "12038.0    10\n",
       "12174.0     9\n",
       "16000.0     8\n",
       "           ..\n",
       "15808.0     1\n",
       "15289.0     1\n",
       "17772.0     1\n",
       "21250.0     1\n",
       "16529.0     1\n",
       "Name: count, Length: 930, dtype: int64"
      ]
     },
     "execution_count": 3,
     "metadata": {},
     "output_type": "execute_result"
    }
   ],
   "source": [
    "def is_unit_price_high(row):\n",
    "    # 单价 > 1w2\n",
    "    if type(row) != dict:\n",
    "        row = row.to_dict()\n",
    "    try:\n",
    "        unit_price = float(row[\"unit_price\"])\n",
    "        \n",
    "        if unit_price > 12000:\n",
    "            return 1\n",
    "    except:\n",
    "        pass\n",
    "    return 0\n",
    "\n",
    "df[\"is_unit_price_high\"] = df.apply(lambda row: is_unit_price_high(row), axis=1)\n",
    "df[df.is_unit_price_high==1].unit_price.value_counts()"
   ]
  },
  {
   "cell_type": "code",
   "execution_count": 4,
   "metadata": {},
   "outputs": [
    {
     "data": {
      "text/plain": [
       "total_price\n",
       "135.0    183\n",
       "145.0    131\n",
       "150.0    128\n",
       "140.0    116\n",
       "155.0     89\n",
       "        ... \n",
       "219.0      1\n",
       "163.2      1\n",
       "134.5      1\n",
       "135.7      1\n",
       "224.0      1\n",
       "Name: count, Length: 213, dtype: int64"
      ]
     },
     "execution_count": 4,
     "metadata": {},
     "output_type": "execute_result"
    }
   ],
   "source": [
    "def is_total_price_high(row):\n",
    "    # 总价>130w\n",
    "    if type(row) != dict:\n",
    "        row = row.to_dict()\n",
    "    try:\n",
    "        price = float(row[\"total_price\"])\n",
    "        if price > 130:\n",
    "            return 1\n",
    "    except:\n",
    "        pass\n",
    "    return 0\n",
    "\n",
    "df[\"is_total_price_high\"] = df.apply(lambda row: is_total_price_high(row), axis=1)\n",
    "df[df.is_total_price_high==1].total_price.value_counts()"
   ]
  },
  {
   "cell_type": "code",
   "execution_count": 5,
   "metadata": {},
   "outputs": [
    {
     "name": "stdout",
     "output_type": "stream",
     "text": [
      "裁剪后数量 5431\n"
     ]
    }
   ],
   "source": [
    "origin_path = origin_path.replace(\".csv\", \"_cut.csv\")\n",
    "dest_df = df[\n",
    "    (df.is_high_level==0) # 非高楼层\n",
    "    & (df.is_unit_price_high == 0) # 单价<1w2\n",
    "    & (df.is_total_price_high == 0) # 总价<130w\n",
    "]\n",
    "dest_df.to_csv(origin_path, index=False, encoding='utf-8-sig')\n",
    "print(\"裁剪后数量\", len(dest_df))"
   ]
  },
  {
   "cell_type": "code",
   "execution_count": null,
   "metadata": {},
   "outputs": [],
   "source": []
  }
 ],
 "metadata": {
  "kernelspec": {
   "display_name": "house_analyze",
   "language": "python",
   "name": "python3"
  },
  "language_info": {
   "codemirror_mode": {
    "name": "ipython",
    "version": 3
   },
   "file_extension": ".py",
   "mimetype": "text/x-python",
   "name": "python",
   "nbconvert_exporter": "python",
   "pygments_lexer": "ipython3",
   "version": "3.10.16"
  }
 },
 "nbformat": 4,
 "nbformat_minor": 2
}
